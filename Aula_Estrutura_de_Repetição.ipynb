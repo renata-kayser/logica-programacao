{
  "nbformat": 4,
  "nbformat_minor": 0,
  "metadata": {
    "colab": {
      "provenance": []
    },
    "kernelspec": {
      "name": "python3",
      "display_name": "Python 3"
    },
    "language_info": {
      "name": "python"
    }
  },
  "cells": [
    {
      "cell_type": "code",
      "execution_count": null,
      "metadata": {
        "id": "BjcC42pKf1Y-"
      },
      "outputs": [],
      "source": []
    },
    {
      "cell_type": "markdown",
      "source": [
        "#Estrutura de Repetição\n",
        "É uma ferramenta que permite executar repetidamente uma sequência de ações ou um bloco de código até que uma condição seja satisfeita.\n",
        "\n",
        "## FOR\n",
        "É uma ferramenta de programação que permite repetir um bloco de código um número específico de vezes. É indicada para situações em que se sabe a quantidade exata de repetições que um bloco de código deve executar.\n",
        "\n",
        "* Função Range: é uma ferramenta de programação que permite repetir um bloco de código um número específico de vezes, utilizando uma sequência de números\n",
        "* Função Simples:\n",
        "* Função Enumerate: facilita a iteração sobre sequências, permitindo que você obtenha tanto o índice quanto o valor de cada elemento"
      ],
      "metadata": {
        "id": "dGkRfMIYf890"
      }
    },
    {
      "cell_type": "code",
      "source": [
        "# For Range\n",
        "for contador in range(10):\n",
        "  print(contador)"
      ],
      "metadata": {
        "colab": {
          "base_uri": "https://localhost:8080/"
        },
        "id": "d8dXldCYgBL6",
        "outputId": "905aa104-0423-4eaa-e7cc-5150e83e989d"
      },
      "execution_count": null,
      "outputs": [
        {
          "output_type": "stream",
          "name": "stdout",
          "text": [
            "0\n",
            "1\n",
            "2\n",
            "3\n",
            "4\n",
            "5\n",
            "6\n",
            "7\n",
            "8\n",
            "9\n"
          ]
        }
      ]
    },
    {
      "cell_type": "code",
      "source": [
        "# For Range  + Break\n",
        "for contador in range(1000):\n",
        "  print(contador)\n",
        "  if contador ==2:\n",
        "    break\n"
      ],
      "metadata": {
        "colab": {
          "base_uri": "https://localhost:8080/"
        },
        "id": "bz6tqRkyi6gh",
        "outputId": "69ff9432-4cfa-4f29-e347-a93fd5d842da"
      },
      "execution_count": null,
      "outputs": [
        {
          "output_type": "stream",
          "name": "stdout",
          "text": [
            "0\n",
            "1\n",
            "2\n"
          ]
        }
      ]
    },
    {
      "cell_type": "code",
      "source": [
        "lista = [\"teste1\", \"teste2\"]\n"
      ],
      "metadata": {
        "id": "mcgVToq_jQ8P"
      },
      "execution_count": null,
      "outputs": []
    },
    {
      "cell_type": "code",
      "source": [
        "# For Simples\n",
        "for val in lista:\n",
        "  print(val)"
      ],
      "metadata": {
        "colab": {
          "base_uri": "https://localhost:8080/"
        },
        "id": "8AUxlnvzjdE7",
        "outputId": "d2b8c716-1b05-4492-d61c-0af2c320ca16"
      },
      "execution_count": null,
      "outputs": [
        {
          "output_type": "stream",
          "name": "stdout",
          "text": [
            "teste1\n",
            "teste2\n"
          ]
        }
      ]
    },
    {
      "cell_type": "code",
      "source": [
        "# For val com Enumerate\n",
        "for i, val in enumerate(lista):\n",
        "  print(i, val)"
      ],
      "metadata": {
        "colab": {
          "base_uri": "https://localhost:8080/"
        },
        "id": "8g8mnvy9jslY",
        "outputId": "1df13fe9-7d1b-4673-ebaa-a787e0a48347"
      },
      "execution_count": null,
      "outputs": [
        {
          "output_type": "stream",
          "name": "stdout",
          "text": [
            "0 teste1\n",
            "1 teste2\n"
          ]
        }
      ]
    },
    {
      "cell_type": "markdown",
      "source": [
        "## For com Operadores compostos\n"
      ],
      "metadata": {
        "id": "NhrBL83gklk2"
      }
    },
    {
      "cell_type": "code",
      "source": [
        "lista2 = [2, 3, 4]\n"
      ],
      "metadata": {
        "id": "2Pus97vikoJm"
      },
      "execution_count": null,
      "outputs": []
    },
    {
      "cell_type": "code",
      "source": [
        "for val in lista2:\n",
        "    val += 1\n",
        "    print(val)"
      ],
      "metadata": {
        "colab": {
          "base_uri": "https://localhost:8080/"
        },
        "id": "IGLMM_Lxk5VN",
        "outputId": "0899638d-a4ed-4348-9ae3-961620a551f8"
      },
      "execution_count": null,
      "outputs": [
        {
          "output_type": "stream",
          "name": "stdout",
          "text": [
            "3\n",
            "4\n",
            "5\n"
          ]
        }
      ]
    },
    {
      "cell_type": "code",
      "source": [
        "for val in lista2:\n",
        "    val *= 2\n",
        "    print(val)"
      ],
      "metadata": {
        "colab": {
          "base_uri": "https://localhost:8080/"
        },
        "id": "klM7j5b9k9vS",
        "outputId": "83617b7a-a802-40ce-f820-acdba06eeffc"
      },
      "execution_count": null,
      "outputs": [
        {
          "output_type": "stream",
          "name": "stdout",
          "text": [
            "4\n",
            "6\n",
            "8\n"
          ]
        }
      ]
    },
    {
      "cell_type": "markdown",
      "source": [
        "## While"
      ],
      "metadata": {
        "id": "AV82qR_glY5X"
      }
    },
    {
      "cell_type": "code",
      "source": [
        "val = 1\n",
        "while (val < 6):\n",
        "  val *= 2\n",
        "  print(val)\n"
      ],
      "metadata": {
        "colab": {
          "base_uri": "https://localhost:8080/"
        },
        "id": "6l2FN19ZlcNw",
        "outputId": "ad60f391-89e4-4b82-8727-3e586874f301"
      },
      "execution_count": null,
      "outputs": [
        {
          "output_type": "stream",
          "name": "stdout",
          "text": [
            "2\n",
            "4\n",
            "8\n"
          ]
        }
      ]
    },
    {
      "cell_type": "code",
      "source": [
        "# While com Else\n",
        "val = 1\n",
        "while (val < 6):\n",
        "  val *= 2\n",
        "else:\n",
        "  print('Valor de val é', val)"
      ],
      "metadata": {
        "colab": {
          "base_uri": "https://localhost:8080/"
        },
        "id": "yfUqtjabmgth",
        "outputId": "513eaa67-5aad-4b1f-f98f-5e9dde1dc184"
      },
      "execution_count": null,
      "outputs": [
        {
          "output_type": "stream",
          "name": "stdout",
          "text": [
            "Valor de val é 8\n"
          ]
        }
      ]
    }
  ]
}