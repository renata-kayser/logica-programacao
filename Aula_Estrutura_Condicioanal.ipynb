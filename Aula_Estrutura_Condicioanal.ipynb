{
  "nbformat": 4,
  "nbformat_minor": 0,
  "metadata": {
    "colab": {
      "provenance": []
    },
    "kernelspec": {
      "name": "python3",
      "display_name": "Python 3"
    },
    "language_info": {
      "name": "python"
    }
  },
  "cells": [
    {
      "cell_type": "code",
      "execution_count": null,
      "metadata": {
        "id": "T-rSQX_kmbuZ"
      },
      "outputs": [],
      "source": []
    },
    {
      "cell_type": "markdown",
      "source": [
        "## Condicional\n"
      ],
      "metadata": {
        "id": "T9j7cZepmlBW"
      }
    },
    {
      "cell_type": "code",
      "source": [
        "# if\n",
        "if 5 < 10:\n",
        "  print('verdade')"
      ],
      "metadata": {
        "colab": {
          "base_uri": "https://localhost:8080/"
        },
        "id": "fJONYUkrmyl2",
        "outputId": "0b2dad72-a914-46cd-91a6-1d181e1466a1"
      },
      "execution_count": null,
      "outputs": [
        {
          "output_type": "stream",
          "name": "stdout",
          "text": [
            "verdade\n"
          ]
        }
      ]
    },
    {
      "cell_type": "code",
      "source": [
        "# if/else\n",
        "num1 = 10\n",
        "num2 = 5\n",
        "if num1>num2:\n",
        "  print('num1 é o maior número')\n",
        "\n",
        "else:\n",
        "  print('num2 é o maior número')"
      ],
      "metadata": {
        "colab": {
          "base_uri": "https://localhost:8080/"
        },
        "id": "m5YH8xZRpM50",
        "outputId": "ec46f385-4390-4f67-b826-bc5bfe178c3d"
      },
      "execution_count": null,
      "outputs": [
        {
          "output_type": "stream",
          "name": "stdout",
          "text": [
            "num1 é o maior número\n"
          ]
        }
      ]
    },
    {
      "cell_type": "code",
      "source": [
        "# if/elif/else\n",
        "num1 = 50\n",
        "num2 = 10\n",
        "if num1>num2:\n",
        "  print('o num1 é o maior número')\n",
        "elif num2>num1:\n",
        "  print('o num2 é o maior número')\n",
        "else:\n",
        "  print(\"Os dois números são iguais\")"
      ],
      "metadata": {
        "colab": {
          "base_uri": "https://localhost:8080/"
        },
        "id": "TjIXz9DAqIoR",
        "outputId": "37dad0e2-d244-4869-affb-3822919adadb"
      },
      "execution_count": null,
      "outputs": [
        {
          "output_type": "stream",
          "name": "stdout",
          "text": [
            "o num1 é o maior número\n"
          ]
        }
      ]
    },
    {
      "cell_type": "markdown",
      "source": [
        "## Condicional com Operadores Lógico\n"
      ],
      "metadata": {
        "id": "3MGGNfsVqtwD"
      }
    },
    {
      "cell_type": "code",
      "source": [
        "\n",
        "num1 = 50\n",
        "num2 = 10\n",
        "num3 = 10\n",
        "if (num1>num2) and (num1>num3): # num1 é os dois\n",
        "  print('o num1 é o maior número')\n",
        "elif (num2>num1) and (num2>num3):\n",
        "  print('o num2 é o maior número')\n",
        "elif (num2==num3) and (num3==num2):\n",
        "  print('o num2 é igual ao num3')\n",
        "else:\n",
        "  print('o num3 é o maior número')"
      ],
      "metadata": {
        "colab": {
          "base_uri": "https://localhost:8080/"
        },
        "id": "IS7pJxUmqyv8",
        "outputId": "695bf321-b0c8-4e3c-a1e4-972b1ee5c734"
      },
      "execution_count": null,
      "outputs": [
        {
          "output_type": "stream",
          "name": "stdout",
          "text": [
            "o num1 é o maior número\n"
          ]
        }
      ]
    },
    {
      "cell_type": "code",
      "source": [
        "\n",
        "num1 = 100\n",
        "num2 = 50\n",
        "if (num1>num2) or (num1==num2): # num1 é um ou outro\n",
        "  print('num1 é maior que num2 ou num1 é igual a num2')\n",
        "elif (num1<num2) and not (num1==num2):\n",
        "  print('num1 é menor que num2 e num1 não é igual a num2')"
      ],
      "metadata": {
        "colab": {
          "base_uri": "https://localhost:8080/"
        },
        "id": "X-11KZxHtV5c",
        "outputId": "6cc37578-b43f-46c7-b371-ca8fa8ca89dc"
      },
      "execution_count": null,
      "outputs": [
        {
          "output_type": "stream",
          "name": "stdout",
          "text": [
            "num1 é maior que num2 ou num1 é igual a num2\n"
          ]
        }
      ]
    },
    {
      "cell_type": "code",
      "source": [],
      "metadata": {
        "id": "IkusLnCGt8L2"
      },
      "execution_count": null,
      "outputs": []
    }
  ]
}