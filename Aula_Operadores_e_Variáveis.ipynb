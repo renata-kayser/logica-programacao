{
  "nbformat": 4,
  "nbformat_minor": 0,
  "metadata": {
    "colab": {
      "provenance": []
    },
    "kernelspec": {
      "name": "python3",
      "display_name": "Python 3"
    },
    "language_info": {
      "name": "python"
    }
  },
  "cells": [
    {
      "cell_type": "code",
      "execution_count": null,
      "metadata": {
        "id": "C7HrT_DcO3A-"
      },
      "outputs": [],
      "source": []
    },
    {
      "cell_type": "markdown",
      "source": [
        "# Operadores e Variáveis\n",
        "* Nome da **variável é “x”** que armazena o **valor 10** em um espaço na memória\n",
        "x = 10\n",
        "print(x) 10\n",
        "\n",
        "* As variáveis devem começar com leta minúscula.\n",
        "* No Python o \"A\" é diferença de \"a\". *(Case Sensitive)*\n",
        "* Usar nomes que definiam o que variável faz no programa\n",
        "* Não usar nome longos\n",
        "\n",
        "## Tipo de variáveis\n",
        "* Int (Inteiro) - num = 10\n",
        "* Float (Real) - num = 10.5\n",
        "* String (Texto) - nome = \"Rodrigo\"\n"
      ],
      "metadata": {
        "id": "G4m6a_l_RGPS"
      }
    },
    {
      "cell_type": "code",
      "source": [],
      "metadata": {
        "id": "I5otjxHzSQGC"
      },
      "execution_count": null,
      "outputs": []
    }
  ]
}